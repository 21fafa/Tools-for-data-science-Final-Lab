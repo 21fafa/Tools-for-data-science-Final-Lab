{
 "cells": [
  {
   "cell_type": "markdown",
   "id": "72fba9a7",
   "metadata": {},
   "source": [
    "# My Jupyter Notebook on IBM Watson Studio #\n",
    "\n"
   ]
  },
  {
   "cell_type": "markdown",
   "id": "c686b880",
   "metadata": {},
   "source": [
    "<b> Fabrizio Padilla\n",
    "    \n",
    "Cage and vault supervisor"
   ]
  },
  {
   "cell_type": "markdown",
   "id": "1cf4b166",
   "metadata": {},
   "source": [
    "*Im intersted because I once had a job as a demand analyst in a shoe factory where I needed to analyze a lot of data*."
   ]
  },
  {
   "cell_type": "markdown",
   "id": "f7205ff7",
   "metadata": {},
   "source": [
    "### My code cell 5 is supossed to be a simple code, adding 5+5 ###"
   ]
  },
  {
   "cell_type": "code",
   "execution_count": 4,
   "id": "3c24ecbd",
   "metadata": {},
   "outputs": [
    {
     "data": {
      "text/plain": [
       "10"
      ]
     },
     "execution_count": 4,
     "metadata": {},
     "output_type": "execute_result"
    }
   ],
   "source": [
    "5+5"
   ]
  },
  {
   "cell_type": "markdown",
   "id": "5d8d37b3",
   "metadata": {},
   "source": [
    "* bullet one\n",
    "    * bullet two\n",
    "    \n",
    "- bullet three\n",
    "    - bullet four\n",
    "    \n",
    "1. Line One\n",
    "2. Line two\n",
    "\n",
    "\n",
    "| header | header | header |\n",
    "| ------ | ------ | ------ |\n",
    "| cell   | cell   | cell   |\n",
    "| ------ | ------ | ------ |\n",
    "| cell   | cell   | cell   |"
   ]
  }
 ],
 "metadata": {
  "kernelspec": {
   "display_name": "Python 3 (ipykernel)",
   "language": "python",
   "name": "python3"
  },
  "language_info": {
   "codemirror_mode": {
    "name": "ipython",
    "version": 3
   },
   "file_extension": ".py",
   "mimetype": "text/x-python",
   "name": "python",
   "nbconvert_exporter": "python",
   "pygments_lexer": "ipython3",
   "version": "3.9.12"
  }
 },
 "nbformat": 4,
 "nbformat_minor": 5
}
